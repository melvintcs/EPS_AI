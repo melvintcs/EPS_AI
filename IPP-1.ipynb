{
  "nbformat": 4,
  "nbformat_minor": 0,
  "metadata": {
    "colab": {
      "provenance": [],
      "toc_visible": true
    },
    "kernelspec": {
      "name": "python3",
      "display_name": "Python 3"
    }
  },
  "cells": [
    {
      "cell_type": "markdown",
      "metadata": {
        "id": "-gtsmD7f8TlX"
      },
      "source": [
        "# **Introduction to Python Programming 1**\n",
        "\n",
        "**Please \"Save A Copy\" in your google drive and work with your own copy**"
      ]
    },
    {
      "cell_type": "markdown",
      "metadata": {
        "id": "UC7w-iDMBBfR"
      },
      "source": [
        "# **What is programming?**\n",
        "1. A computer is a machine that executes programs.\n",
        "2. A program is a description of a precise sequence of steps.\n",
        "3. A computer executes the steps in a program to perform mechanical computations.\n",
        "4. A programming language is designed for humans to easily read and write programs.\n",
        "5. Python is a programming language"
      ]
    },
    {
      "cell_type": "markdown",
      "metadata": {
        "id": "5nLKVnr5VJoS"
      },
      "source": [
        "# **Section 1: Programming basics**\n"
      ]
    },
    {
      "cell_type": "markdown",
      "metadata": {
        "id": "v3injbRwVLNn"
      },
      "source": [
        "1. Writing your first piece of code\n",
        "2. `print` statements\n",
        "3. Comment statements\n",
        "4. **7 Keyboard Shortcuts** that you **MUST** know (***You must familiarise yourself with these shortcuts***, please take a picture of it and store it in your phone for your easy reference!)\n",
        "\n",
        "|S/N: | Shortcuts | Description |\n",
        "| --- | --- | --- |\n",
        "|1.| Ctrl + Enter | Run Code Cell |\n",
        "|2.| Ctrl + a | Select everything |\n",
        "|3.| Ctrl + c | Copy |\n",
        "|4.| Ctrl + v | paste |\n",
        "|5.| Ctrl + / | Comment/Uncomment |\n",
        "|6.| Ctrl + [ | Dedent (Moving your code 2 or 4 spaces **BACK**, depending on your settings) |\n",
        "|7.| Ctrl + ] | Indent (Moving your code 2 or 4 spaces **FORWARD**, depending on your settings)|"
      ]
    },
    {
      "cell_type": "code",
      "source": [],
      "metadata": {
        "id": "gBba5Larij0q"
      },
      "execution_count": null,
      "outputs": []
    },
    {
      "cell_type": "markdown",
      "metadata": {
        "id": "9wvlsR3vBNQY"
      },
      "source": [
        "1. Programming is not just about mathematics.\n",
        "2. Mathematics make it possible for machines to compute, and thus we use math to express what we want to achieve.\n",
        "3. We use programming to solve many problems in real-life, often 'qualitative' in nature\n",
        "4. One of which is dealing with text\n",
        "\n"
      ]
    },
    {
      "cell_type": "markdown",
      "metadata": {
        "id": "ax4ZdMUE8ZSL"
      },
      "source": [
        "Open a new code box for each of the following:\n",
        "1. `print('Hello world'!)`\n",
        "2. `print('Hello','world!')`\n",
        "1. `print('My life is a great adventure and so much fun!')`\n",
        "2. `print('My life is a great adventure', 'and', 'so much fun!')`\n",
        "\n",
        "\n"
      ]
    },
    {
      "cell_type": "markdown",
      "source": [
        "Anything within 'quotes' or \"double quotes\" in python will be treated as a string / character / text.\n",
        "\n",
        "To print it out, use the print() function. Functions are like 'recipes' that tell python to do something for you.\n",
        "\n",
        "Functions usually have a name like *print*, and then followed by parathesis (): *print()*.\n",
        "\n",
        "The recommended way to print a string is:\n",
        "\n",
        "1. Type print()\n",
        "2. Within the parathesis, put in a quote '. Python will automatically insert two single quotes and put your cursor within them.\n",
        "3. Type your text\n"
      ],
      "metadata": {
        "id": "vUWZVgNfRPc4"
      }
    },
    {
      "cell_type": "markdown",
      "source": [
        "#### **Exercise 1.1**"
      ],
      "metadata": {
        "id": "J7Xd5Ks-T0kH"
      }
    },
    {
      "cell_type": "code",
      "metadata": {
        "id": "LYvipu24iFKb",
        "outputId": "895f40db-1c5e-4282-98aa-b772e7a303f7",
        "colab": {
          "base_uri": "https://localhost:8080/"
        }
      },
      "source": [
        "print('Hello world!')"
      ],
      "execution_count": 1,
      "outputs": [
        {
          "output_type": "stream",
          "name": "stdout",
          "text": [
            "Hello world!\n"
          ]
        }
      ]
    },
    {
      "cell_type": "code",
      "metadata": {
        "id": "nR2fDafAiFSN"
      },
      "source": [],
      "execution_count": 1,
      "outputs": []
    },
    {
      "cell_type": "code",
      "metadata": {
        "id": "0TAjqjXua21H"
      },
      "source": [],
      "execution_count": null,
      "outputs": []
    },
    {
      "cell_type": "code",
      "metadata": {
        "id": "7izpoqOghD5c"
      },
      "source": [],
      "execution_count": null,
      "outputs": []
    },
    {
      "cell_type": "markdown",
      "source": [
        "Comments are important to inform the reader what does the block of code do. It's highly recommended that you comment before you write any code, for others and yourself (when you come back to the codes again)\n",
        "\n",
        "Comments are initiated in python via the hex (hashtag) character #.\n",
        "\n",
        "Any thing after # will be treated as a comment and will not be executed.\n",
        "\n"
      ],
      "metadata": {
        "id": "spffT5oRQVEB"
      }
    },
    {
      "cell_type": "code",
      "source": [
        "# this is a comment\n",
        "#### multiple # also denotes comments\n",
        "\n",
        "''' triple single quotes can sometimes be treated as comments as well '''\n",
        "\"\"\" like this as well \"\"\""
      ],
      "metadata": {
        "id": "Ig3aYdP3Q1ts"
      },
      "execution_count": null,
      "outputs": []
    },
    {
      "cell_type": "markdown",
      "metadata": {
        "id": "zIOnm2DxVMJa"
      },
      "source": [
        "# **Section 2: Making your codes reusable**\n"
      ]
    },
    {
      "cell_type": "markdown",
      "metadata": {
        "id": "JcSSpMnK-827"
      },
      "source": [
        "## 2.1 Variable assignment\n",
        "In programming, we are concerned about improving the quality-of-life (QOL) of coders and readers. 2 important QOL principles that we are going to learn here are:\n",
        "\n",
        "1.   Naming your steps\n",
        "2.   Reusable operators\n",
        "\n",
        "We can achieve these QOL principles by using variable assignment. Variable assigns values to names. Always remember to use names that are easy to understand.\n"
      ]
    },
    {
      "cell_type": "markdown",
      "source": [
        "#### Rules of Variable Names\n",
        "\n",
        "1. Variable names must start with an alphabet (a to z), they cannot start with numbers (0-9) or special characters (!@#$%)\n",
        "\n",
        "2. Variable names must be 1 continuous 'word' without breaks. *num of words* do not work. *num_of_words* is alright.\n",
        "\n",
        "3.   Variable names are CASE-SENSITIVE. *num_of_words* is not the same as *Num_of_words*, and both of them are not the same as *Num_Of_Words*.\n",
        "\n",
        "4. The recommended way to link up words in a variable name is to use underscore _. We do not usually use camelcase (numOfWords).\n",
        "\n",
        "4.   When variables are assigned a value, Python understands that it should act on the values underlying the variables.\n",
        "\n",
        "5.   We can thus use operators on variable names to obtain our desired solution.\n",
        "\n",
        "**Useful Material:**\n",
        "\n",
        "http://pythontutor.com/visualize.html#mode=edit"
      ],
      "metadata": {
        "id": "J-LhRpJgPOxk"
      }
    },
    {
      "cell_type": "code",
      "metadata": {
        "id": "3XKtetSMiWrd"
      },
      "source": [
        "# make sure you have defined the variables before you call it\n",
        "variable_one =\n",
        "\n",
        "# writing this way ensures whenever we change variable_one's value\n",
        "# variable_two's code don't have to be modified\n",
        "variable_two ="
      ],
      "execution_count": null,
      "outputs": []
    },
    {
      "cell_type": "code",
      "metadata": {
        "id": "LsVuf3i4rs5G"
      },
      "source": [
        "print()\n",
        "print()"
      ],
      "execution_count": null,
      "outputs": []
    },
    {
      "cell_type": "markdown",
      "metadata": {
        "id": "hlN3htineKVx"
      },
      "source": [
        "## 2.2 Mathmatical Operators\n",
        "In the above exercise, we covered the addition operator.\n",
        "\n",
        "There are other common operators as well (***You must familiarise yourself*** with these operators, please take a picture of it and store it in your phone for your easy reference!):\n",
        "\n",
        "|S/N|Description|Operator| What it does?|\n",
        "|---|---|---|---|\n",
        "|1.|Addition| +| Add elements (integer & float) up **OR** Concatenates elements (everything else except integer & float)\n",
        "|2.|Subtraction| -| Subtracts right hand element from left hand element.\n",
        "|3.|Multiplication| *| Multiply elements (integer & float) **OR** Make copies of the element (everything else except integer & float)\n",
        "|4.|Division| /| Outputs a floating point number\n",
        "|5.|Power/Exponent| **| Raises the left element to the power of the right element\n",
        "|6.|Modulo| %| Retrieves the remainder of a division\n",
        "|7.|Floor division| //| Outputs the Quotient\n",
        "\n",
        "\n",
        "## **What is Quotient, Divisor & Remainder?**\n",
        "\n",
        "![parts-division.png](data:image/png;base64,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)"
      ]
    },
    {
      "cell_type": "markdown",
      "metadata": {
        "id": "4ZSEf3KMrVS8"
      },
      "source": [
        "#### **Exercise 2.2.1**\n",
        "**Simple Arithmetic Operations**\n",
        "\n",
        "**Your task:** Provide the answers to the following questions using arithmetic operators. Show your codes below.\n",
        "\n",
        "Question 1) Subtract 620 from 991.\n",
        "\n",
        "Question 2) Calculate 4 to the power of 3.\n",
        "\n",
        "Question 3) Divide 39420 by 4.\n",
        "\n",
        "Question 4) Sum up all the whole numbers from 1 to 10.\n",
        "\n",
        "Question 5) What is the remainder when 70 is divided by 6?"
      ]
    },
    {
      "cell_type": "code",
      "metadata": {
        "id": "NIULYYv9eVGn"
      },
      "source": [
        "# Type your codes here.\n",
        "\n",
        "question_1 = 991 - 620\n",
        "\n",
        "question_2 = 4 ** 3\n",
        "\n",
        "question_3 = 39420/4\n",
        "\n",
        "question_4 = 550\n",
        "\n",
        "question_5 = 70 % 6\n",
        "\n",
        "print(\"The output for Q1 is:\", question_1) # Repeat this statement for the rest of the questions\n",
        "print(\"The output for Q2 is:\", question_2) # Repeat this statement for the rest of the questions\n",
        "print(\"The output for Q3 is:\", question_3) # Repeat this statement for the rest of the questions\n",
        "print(\"The output for Q4 is:\", question_4) # Repeat this statement for the rest of the questions\n",
        "print(\"The output for Q5 is:\", question_5) # Repeat this statement for the rest of the questions"
      ],
      "execution_count": null,
      "outputs": []
    },
    {
      "cell_type": "markdown",
      "metadata": {
        "id": "6VqUb9vSghxE"
      },
      "source": [
        "#### **Exercise 2.2.2**\n",
        "Colin has $30000 dollars. He puts it into a savings account with 1.8% simple interest. How much money will he have after a year?\n",
        "\n"
      ]
    },
    {
      "cell_type": "code",
      "metadata": {
        "id": "ElgHFOm3gmG_"
      },
      "source": [
        "# Write your code here.\n",
        "total =\n",
        "\n",
        "print('Colin will have $', total ,'after one year.')"
      ],
      "execution_count": null,
      "outputs": []
    },
    {
      "cell_type": "markdown",
      "metadata": {
        "id": "qXefvpNDiT8v"
      },
      "source": [
        "#### **Exercise 2.2.3**\n",
        "\n",
        "Sam is baking cookies to sell at home. The cost of his ingredients for 1 jar of cookies are as follows:\n",
        "\n",
        "1. Flour: \\$1\n",
        "2. Eggs: \\$2.30\n",
        "3. Chocolate Chips: \\$7.99\n",
        "4. Baking Soda: \\$2.55\n",
        "5. Sugar: \\$2\n",
        "6. Milk: \\$4.10\n",
        "\n",
        "What price should Sam sell his cookies for if he wishes to make a 20% profit?\n",
        "\n",
        "Use variable assignment and expressions to solve this."
      ]
    },
    {
      "cell_type": "code",
      "metadata": {
        "id": "umluaS13iZyW"
      },
      "source": [
        "# Write your code here\n",
        "Flour = 1\n",
        "Eggs = 2.30\n",
        "Chocolate_Chips = 7.99\n",
        "Baking_Soda = 2.55\n",
        "Sugar = 2\n",
        "Milk = 4.10\n",
        "\n",
        "price =\n",
        "\n",
        "print(\"The total price is $\", price)"
      ],
      "execution_count": null,
      "outputs": []
    },
    {
      "cell_type": "markdown",
      "metadata": {
        "id": "ZuveG2UBdaP2"
      },
      "source": [
        "#### **Exercise 2.2.4**\n",
        "\n",
        "Exercise 2.4 is broken down into 2 practices, try it on your own! The hints are given, use them as a guide when you create your variables."
      ]
    },
    {
      "cell_type": "markdown",
      "metadata": {
        "id": "ZS9WS71Xwwyu"
      },
      "source": [
        "**Question Part One:**\n",
        "\n",
        "John brought 48 apples to class, which has 21 students. He decides to divide the apples evenly and completely (i.e. no slicing) to all the students in the class. Any remainder will be given to the instructor.\n",
        "\n",
        "1.   How many apples do each student get?\n",
        "2.   How many apples will the instructor get?\n",
        "\n",
        "**Your task:**\n",
        "\n",
        "Use variables assignment and expressions to solve this, and print your answer without hardcoding the values.\n",
        "\n",
        "**Hints:**\n",
        "\n",
        "1. Assign no_of_apples a value of 48\n",
        "2. Assign no_of_students a value of 21\n",
        "3. Compute no_of_apples_per_student given each student receives same number of apples\n",
        "(i.e. use int() or //)\n",
        "4. Compute no_of_extra_apples (i.e. use modulo %)\n",
        "5. Assign no_of_apples_for_instructor appropriately\n",
        "6. Print the result in the form of \"The number of apples per student in a class of X is Y.\"\n",
        "7. Print the result in the form of \"The number of apples given to the instructor is Z.\"\n",
        "\n"
      ]
    },
    {
      "cell_type": "code",
      "metadata": {
        "id": "XNAOOgSLgRis"
      },
      "source": [
        "# Create and assign values to the 2 variables - no_of_apples & no_of_students\n",
        "no_of_apples = 48\n",
        "no_of_students = 21\n",
        "\n",
        "no_of_apples_per_student =\n",
        "print(no_of_apples_per_student)\n",
        "\n",
        "# The answer will be a float if the division is not complete.\n",
        "# Students should be getting full apples instead of slices of the remaining apples.\n",
        "# Thus we convert the float to an integer by calling the int() function.\n",
        "# Int function gives the floor of the float (i.e. round down).\n",
        "\n",
        "# Number of Apples Per Student is?\n",
        "#print(f'the number of apples each student gets is {no_of_apples_per_student}')\n",
        "\n",
        "\n",
        "# Number of Extra Apples?\n",
        "no_of_extra_apples =\n",
        "no_of_apples_to_instructor =\n",
        "\n",
        "# Print the results nicely as instructed above.\n",
        "print('the number of apples the instructor gets is', no_of_apples_to_instructor)\n",
        "# print(f'the number of apples the instructor gets is {no_of_apples_to_instructor}')\n",
        "\n",
        "\n",
        "\n",
        "\n"
      ],
      "execution_count": null,
      "outputs": []
    },
    {
      "cell_type": "code",
      "source": [
        "\n",
        "no_of_apples = 48\n",
        "no_of_students = 21\n",
        "\n",
        "## Question 1\n",
        "student_get = 48 // 21\n",
        "\n",
        "\n",
        "## Question 2\n",
        "remain = no_of apples % no_of_students\n",
        "\n",
        "print (student_get)"
      ],
      "metadata": {
        "colab": {
          "base_uri": "https://localhost:8080/",
          "height": 106
        },
        "id": "eXz6IeploFgJ",
        "outputId": "0cffb326-95a7-43c8-dbd6-1494848b2548"
      },
      "execution_count": null,
      "outputs": [
        {
          "output_type": "error",
          "ename": "SyntaxError",
          "evalue": "invalid syntax (<ipython-input-1-80b52847cee6>, line 9)",
          "traceback": [
            "\u001b[0;36m  File \u001b[0;32m\"<ipython-input-1-80b52847cee6>\"\u001b[0;36m, line \u001b[0;32m9\u001b[0m\n\u001b[0;31m    remain = no_of apples % no_of_students\u001b[0m\n\u001b[0m                   ^\u001b[0m\n\u001b[0;31mSyntaxError\u001b[0m\u001b[0;31m:\u001b[0m invalid syntax\n"
          ]
        }
      ]
    },
    {
      "cell_type": "markdown",
      "metadata": {
        "id": "q2IO1XSAiZn7"
      },
      "source": [
        "**Question Part Two:**\n",
        "- John realized that he has another 2 apples in his bag and decided to give them to the instructor after the class. How many apples will the instructor get?\n",
        "- Print the result in the form \"The number of apples given to the instructor is X\".\n",
        "- **Challenge:** Using the final value above with `+=` symbol. The syntatical meaning of `+=` is as follows:\n",
        "\n",
        "|  | | |\n",
        "|---|---|---|\n",
        "| X+=1 | =>  | X+1|\n",
        "\n"
      ]
    },
    {
      "cell_type": "code",
      "metadata": {
        "id": "fSUenq07hU_Z",
        "cellView": "both"
      },
      "source": [
        "# Here, we demonstrate a short form operator\n",
        "# that adds, subtract, divide, or multiply a variable's existing value with the new value.\n",
        "#no_of_apples_to_instructor = no_of_apples_to_instructor + 2\n",
        "\n",
        "no_of_apples_to_instructor\n",
        "\n",
        "print(no_of_apples_to_instructor)\n"
      ],
      "execution_count": null,
      "outputs": []
    },
    {
      "cell_type": "markdown",
      "metadata": {
        "id": "kdVgqeIsinbu"
      },
      "source": [
        "#### **Exercise 2.2.5**\n",
        "\n",
        "Convert kilograms to pounds.\n",
        "\n"
      ]
    },
    {
      "cell_type": "markdown",
      "metadata": {
        "id": "YpW006zGsIoE"
      },
      "source": [
        "The steps are as follows:\n",
        "\n",
        "Multiply the weight in kilograms by 2.2\n",
        "Trying converting kg to pounds of:\n",
        "\n",
        "1) 80kg\n",
        "\n",
        "2) 57kg\n",
        "\n",
        "Subsequently, print out the statements for each of the conversion as follows `\"The weight of ___ Kg in pounds is: ______\"` (*The blanks are to be filled with variables.*)"
      ]
    },
    {
      "cell_type": "code",
      "metadata": {
        "id": "gi3BlzJbpDAE"
      },
      "source": [
        "# Write your code here\n",
        "\n",
        "### Question 1: ###\n",
        "kg_weight = 80\n",
        "pound_weight =\n",
        "question_part_1 =\n",
        "print(\"The weight of\", kg_weight ,\"Kg in pounds is:\", question_part_1)\n",
        "\n",
        "### Question 2: ###\n",
        "kg_weight = 57\n",
        "pound_weight =\n",
        "question_part_2 =\n",
        "print(\"The weight of\", kg_weight ,\"Kg in pounds is:\", question_part_2)"
      ],
      "execution_count": null,
      "outputs": []
    },
    {
      "cell_type": "markdown",
      "metadata": {
        "id": "mxKXxZKizEcP"
      },
      "source": [
        "## 2.3 Comparison Operators\n",
        "*Credits: https://www.tutorialspoint.com/python/python_basic_operators.htm*\n",
        "\n",
        "These operators compare the values on either sides of them and decide the relation among them. The output will **always be a Boolean value** - `True` or `False` value.\n",
        "\n",
        "For this example, we will be setting our variables as follows (please look at them very carefully):\n",
        "\n",
        "```\n",
        "a = 10\n",
        "b = 10\n",
        "c = 20\n",
        "```\n",
        "\n",
        "|Operator|\tDescription|\tExample| Output\n",
        "|---|---|---|---|\n",
        "|==|If the values of two operands are **Equal**, then the condition becomes True|`a==b`| True\n",
        "|==|If the values of two operands are **NOT Equal**, then the condition becomes False|`a==c`| False\n",
        "!=|\tIf values of two operands are **NOT Equal**, then condition becomes True|\t`a != c` |True\n",
        "!=|\tIf values of two operands are **Equal**, then condition becomes False|\t`a != b` |False\n",
        "\\>|If the value of **left** operand is **Greater** than the value of **right** operand, then condition becomes True | `c > a`| True\n",
        "\\<|If the value of **left** operand is **less than** the value of **right** operand, then condition becomes True | `a < c`| True\n",
        "\\>=|If the value of **left** operand is **greater than or equal** to the value of **right** operand, then condition becomes True|`c >= a`|True\n",
        "\\<=|If the value of **left** operand is **less than or equal** to the value of **right** operand, then condition becomes True.|`a <= c`|True\n"
      ]
    },
    {
      "cell_type": "markdown",
      "metadata": {
        "id": "IwIR5yaV5TGb"
      },
      "source": [
        "#### **Exercise 2.3.1**\n",
        "Tom has $10 and wants to buy the following items:\n",
        "\n",
        "Notepad - $2.30\n",
        "\n",
        "Iced Coffee - $3.45\n",
        "\n",
        "Printing Fees - $5\n",
        "\n",
        "Does Tom have enough money? Calculate using variable assignment and evaluate using Boolean expressions."
      ]
    },
    {
      "cell_type": "code",
      "metadata": {
        "id": "dI11CJ7w5SUe",
        "outputId": "717757a1-399f-4fa7-f230-c9933ff673dd",
        "colab": {
          "base_uri": "https://localhost:8080/",
          "height": 106
        }
      },
      "source": [
        "notepad_price = 2.30\n",
        "iced_coffee = 3.45\n",
        "printing_fees = 5\n",
        "tom_cash = 10\n",
        "\n",
        "sum_cost =\n",
        "\n",
        "enough_money =\n",
        "not_enough_money =\n",
        "\n",
        "print('Did Tom have enough money? Answer:', enough_money)\n",
        "print('Did Tom not have enough money? Answer:', not_enough_money)"
      ],
      "execution_count": 2,
      "outputs": [
        {
          "output_type": "error",
          "ename": "SyntaxError",
          "evalue": "invalid syntax (ipython-input-2-3622645131.py, line 6)",
          "traceback": [
            "\u001b[0;36m  File \u001b[0;32m\"/tmp/ipython-input-2-3622645131.py\"\u001b[0;36m, line \u001b[0;32m6\u001b[0m\n\u001b[0;31m    sum_cost =\u001b[0m\n\u001b[0m              ^\u001b[0m\n\u001b[0;31mSyntaxError\u001b[0m\u001b[0;31m:\u001b[0m invalid syntax\n"
          ]
        }
      ]
    },
    {
      "cell_type": "markdown",
      "source": [
        "#### **Exercise 2.3.2**\n",
        "\n",
        "We would like to check if someone is overweight based on the Body Mass Index (BMI). A BMI above 23 usually indicates that a person's weight is outside the healthy range for his/her height.\n",
        "\n",
        "BMI is calculated by taking a person's weight (kg) and dividing by the square of his/her height (m).\n",
        "\n",
        "Given that Jerry is 70kg and 1.7m, what is his BMI?\n",
        "\n",
        "Is Jerry overweight?\n"
      ],
      "metadata": {
        "id": "vhVYZXcQWZQY"
      }
    },
    {
      "cell_type": "code",
      "source": [
        "weight = 70\n",
        "height = 1.7\n",
        "overweight_bmi = 23\n",
        "\n",
        "bmi = 123\n",
        "bmi_status =\n",
        "\n",
        "print('Jerry has a BMI of', bmi)\n",
        "print('Jerry is overweight?:', bmi_status)"
      ],
      "metadata": {
        "id": "OByFqLK-XT9R",
        "outputId": "69b5dda6-c43b-4247-f83d-db5bb971400f",
        "colab": {
          "base_uri": "https://localhost:8080/",
          "height": 106
        }
      },
      "execution_count": 3,
      "outputs": [
        {
          "output_type": "error",
          "ename": "SyntaxError",
          "evalue": "invalid syntax (ipython-input-3-2672329639.py, line 5)",
          "traceback": [
            "\u001b[0;36m  File \u001b[0;32m\"/tmp/ipython-input-3-2672329639.py\"\u001b[0;36m, line \u001b[0;32m5\u001b[0m\n\u001b[0;31m    bmi =\u001b[0m\n\u001b[0m         ^\u001b[0m\n\u001b[0;31mSyntaxError\u001b[0m\u001b[0;31m:\u001b[0m invalid syntax\n"
          ]
        }
      ]
    }
  ]
}